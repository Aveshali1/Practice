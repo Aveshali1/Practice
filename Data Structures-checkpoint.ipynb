{
 "cells": [
  {
   "cell_type": "markdown",
   "id": "cb19407b",
   "metadata": {},
   "source": [
    "### Data Structures"
   ]
  },
  {
   "cell_type": "code",
   "execution_count": 1,
   "id": "9aa2cb82",
   "metadata": {},
   "outputs": [
    {
     "data": {
      "text/plain": [
       "tuple"
      ]
     },
     "execution_count": 1,
     "metadata": {},
     "output_type": "execute_result"
    }
   ],
   "source": [
    "x=\"Banana\", \"Orange\",\"Mango\",\"Apple\"\n",
    "type(x)"
   ]
  },
  {
   "cell_type": "code",
   "execution_count": 4,
   "id": "3c5e6c6c",
   "metadata": {},
   "outputs": [
    {
     "data": {
      "text/plain": [
       "tuple"
      ]
     },
     "execution_count": 4,
     "metadata": {},
     "output_type": "execute_result"
    }
   ],
   "source": [
    "y=(\"Banana\", \"Orange\",\"Mango\",\"Apple\")\n",
    "type(y)"
   ]
  },
  {
   "cell_type": "code",
   "execution_count": 5,
   "id": "75a34f0f",
   "metadata": {},
   "outputs": [
    {
     "data": {
      "text/plain": [
       "list"
      ]
     },
     "execution_count": 5,
     "metadata": {},
     "output_type": "execute_result"
    }
   ],
   "source": [
    "z=[\"Banana\", \"Orange\",\"Mango\",\"Apple\"]\n",
    "type(z)"
   ]
  },
  {
   "cell_type": "code",
   "execution_count": 6,
   "id": "4725a6fd",
   "metadata": {},
   "outputs": [
    {
     "data": {
      "text/plain": [
       "dict"
      ]
     },
     "execution_count": 6,
     "metadata": {},
     "output_type": "execute_result"
    }
   ],
   "source": [
    "u={\"Banana\":\"B\", \"Orange\":\"O\",\"Mango\":\"M\",\"Apple\":\"A\"}\n",
    "type(u)"
   ]
  },
  {
   "cell_type": "code",
   "execution_count": 8,
   "id": "b49ec63c",
   "metadata": {},
   "outputs": [
    {
     "data": {
      "text/plain": [
       "set"
      ]
     },
     "execution_count": 8,
     "metadata": {},
     "output_type": "execute_result"
    }
   ],
   "source": [
    "v={\"Banana\", \"Orange\",\"Mango\",\"Apple\"}\n",
    "type(v)"
   ]
  },
  {
   "cell_type": "code",
   "execution_count": 10,
   "id": "f64de16d",
   "metadata": {},
   "outputs": [],
   "source": [
    "list=[1,2,3,\"Avesh\",1+2j,20]"
   ]
  },
  {
   "cell_type": "code",
   "execution_count": 11,
   "id": "b0312e31",
   "metadata": {},
   "outputs": [
    {
     "data": {
      "text/plain": [
       "1"
      ]
     },
     "execution_count": 11,
     "metadata": {},
     "output_type": "execute_result"
    }
   ],
   "source": [
    "list[0]"
   ]
  },
  {
   "cell_type": "code",
   "execution_count": 12,
   "id": "3e6cc9e1",
   "metadata": {},
   "outputs": [
    {
     "data": {
      "text/plain": [
       "2"
      ]
     },
     "execution_count": 12,
     "metadata": {},
     "output_type": "execute_result"
    }
   ],
   "source": [
    "list[1]"
   ]
  },
  {
   "cell_type": "code",
   "execution_count": 13,
   "id": "c43b7a82",
   "metadata": {},
   "outputs": [
    {
     "data": {
      "text/plain": [
       "'Avesh'"
      ]
     },
     "execution_count": 13,
     "metadata": {},
     "output_type": "execute_result"
    }
   ],
   "source": [
    "list[3]"
   ]
  },
  {
   "cell_type": "code",
   "execution_count": 14,
   "id": "49151ccb",
   "metadata": {},
   "outputs": [
    {
     "data": {
      "text/plain": [
       "(1+2j)"
      ]
     },
     "execution_count": 14,
     "metadata": {},
     "output_type": "execute_result"
    }
   ],
   "source": [
    "list[4]"
   ]
  },
  {
   "cell_type": "code",
   "execution_count": 15,
   "id": "ad48e56d",
   "metadata": {},
   "outputs": [],
   "source": [
    "list[1]=9"
   ]
  },
  {
   "cell_type": "code",
   "execution_count": 16,
   "id": "e7e78ef8",
   "metadata": {},
   "outputs": [
    {
     "data": {
      "text/plain": [
       "[1, 9, 3, 'Avesh', (1+2j), 20]"
      ]
     },
     "execution_count": 16,
     "metadata": {},
     "output_type": "execute_result"
    }
   ],
   "source": [
    "list"
   ]
  },
  {
   "cell_type": "code",
   "execution_count": 26,
   "id": "52291d1b",
   "metadata": {},
   "outputs": [],
   "source": [
    "list.reverse()"
   ]
  },
  {
   "cell_type": "code",
   "execution_count": 23,
   "id": "bbae8542",
   "metadata": {},
   "outputs": [
    {
     "data": {
      "text/plain": [
       "[20, (1+2j), 'Avesh', 3, 9, 1]"
      ]
     },
     "execution_count": 23,
     "metadata": {},
     "output_type": "execute_result"
    }
   ],
   "source": [
    "list"
   ]
  },
  {
   "cell_type": "code",
   "execution_count": 24,
   "id": "de8b72ea",
   "metadata": {},
   "outputs": [
    {
     "ename": "TypeError",
     "evalue": "'<' not supported between instances of 'complex' and 'int'",
     "output_type": "error",
     "traceback": [
      "\u001b[1;31m---------------------------------------------------------------------------\u001b[0m",
      "\u001b[1;31mTypeError\u001b[0m                                 Traceback (most recent call last)",
      "\u001b[1;32m~\\AppData\\Local\\Temp\\ipykernel_9284\\1389050415.py\u001b[0m in \u001b[0;36m<module>\u001b[1;34m\u001b[0m\n\u001b[1;32m----> 1\u001b[1;33m \u001b[0mlist\u001b[0m\u001b[1;33m.\u001b[0m\u001b[0msort\u001b[0m\u001b[1;33m(\u001b[0m\u001b[1;33m)\u001b[0m\u001b[1;33m\u001b[0m\u001b[1;33m\u001b[0m\u001b[0m\n\u001b[0m",
      "\u001b[1;31mTypeError\u001b[0m: '<' not supported between instances of 'complex' and 'int'"
     ]
    }
   ],
   "source": [
    "list.sort()"
   ]
  },
  {
   "cell_type": "code",
   "execution_count": 34,
   "id": "95514f39",
   "metadata": {},
   "outputs": [],
   "source": [
    "a=[18,14,15]"
   ]
  },
  {
   "cell_type": "code",
   "execution_count": 35,
   "id": "760ab49a",
   "metadata": {},
   "outputs": [],
   "source": [
    "a.sort()"
   ]
  },
  {
   "cell_type": "code",
   "execution_count": 36,
   "id": "395905e8",
   "metadata": {},
   "outputs": [
    {
     "data": {
      "text/plain": [
       "[14, 15, 18]"
      ]
     },
     "execution_count": 36,
     "metadata": {},
     "output_type": "execute_result"
    }
   ],
   "source": [
    "a"
   ]
  },
  {
   "cell_type": "code",
   "execution_count": null,
   "id": "7652608a",
   "metadata": {},
   "outputs": [],
   "source": []
  },
  {
   "cell_type": "code",
   "execution_count": 48,
   "id": "b9881fde",
   "metadata": {},
   "outputs": [],
   "source": [
    "d={1,2,2,5,6,6,8}"
   ]
  },
  {
   "cell_type": "code",
   "execution_count": 46,
   "id": "88e11fc2",
   "metadata": {},
   "outputs": [],
   "source": [
    "d.add(9)"
   ]
  },
  {
   "cell_type": "code",
   "execution_count": 47,
   "id": "016d3b24",
   "metadata": {},
   "outputs": [
    {
     "data": {
      "text/plain": [
       "{1, 2, 5, 6, 8, 9}"
      ]
     },
     "execution_count": 47,
     "metadata": {},
     "output_type": "execute_result"
    }
   ],
   "source": [
    "d"
   ]
  },
  {
   "cell_type": "code",
   "execution_count": 49,
   "id": "f6401304",
   "metadata": {},
   "outputs": [],
   "source": [
    "d.remove(6)"
   ]
  },
  {
   "cell_type": "code",
   "execution_count": 50,
   "id": "eaa1ee6d",
   "metadata": {},
   "outputs": [
    {
     "data": {
      "text/plain": [
       "{1, 2, 5, 8}"
      ]
     },
     "execution_count": 50,
     "metadata": {},
     "output_type": "execute_result"
    }
   ],
   "source": [
    "d"
   ]
  },
  {
   "cell_type": "code",
   "execution_count": null,
   "id": "fc071cab",
   "metadata": {},
   "outputs": [],
   "source": []
  },
  {
   "cell_type": "code",
   "execution_count": 62,
   "id": "3def1a19",
   "metadata": {},
   "outputs": [],
   "source": [
    "g = {\"a\":\"alpha\",1:\"first\",2:\"second\",3:\"third\",1:\"fourth\",5:\"fourth\",6:\"sixth\"}"
   ]
  },
  {
   "cell_type": "code",
   "execution_count": 56,
   "id": "9706aae5",
   "metadata": {},
   "outputs": [
    {
     "data": {
      "text/plain": [
       "{'a': 'alpha', 1: 'fourth', 2: 'second', 3: 'third', 5: 'fourth', 6: 'sixth'}"
      ]
     },
     "execution_count": 56,
     "metadata": {},
     "output_type": "execute_result"
    }
   ],
   "source": [
    "g"
   ]
  },
  {
   "cell_type": "code",
   "execution_count": 53,
   "id": "f67ed518",
   "metadata": {},
   "outputs": [
    {
     "data": {
      "text/plain": [
       "'fourth'"
      ]
     },
     "execution_count": 53,
     "metadata": {},
     "output_type": "execute_result"
    }
   ],
   "source": [
    "g[5]"
   ]
  },
  {
   "cell_type": "code",
   "execution_count": 54,
   "id": "8497ef2c",
   "metadata": {},
   "outputs": [
    {
     "ename": "SyntaxError",
     "evalue": "invalid syntax (131093216.py, line 1)",
     "output_type": "error",
     "traceback": [
      "\u001b[1;36m  File \u001b[1;32m\"C:\\Users\\Avesh Ali\\AppData\\Local\\Temp\\ipykernel_9284\\131093216.py\"\u001b[1;36m, line \u001b[1;32m1\u001b[0m\n\u001b[1;33m    g.add(\"AV\":\"Avesh\")\u001b[0m\n\u001b[1;37m              ^\u001b[0m\n\u001b[1;31mSyntaxError\u001b[0m\u001b[1;31m:\u001b[0m invalid syntax\n"
     ]
    }
   ],
   "source": [
    "g.add(\"AV\":\"Avesh\")"
   ]
  },
  {
   "cell_type": "code",
   "execution_count": 64,
   "id": "ff384790",
   "metadata": {},
   "outputs": [
    {
     "ename": "SyntaxError",
     "evalue": "invalid syntax (4043377903.py, line 1)",
     "output_type": "error",
     "traceback": [
      "\u001b[1;36m  File \u001b[1;32m\"C:\\Users\\Avesh Ali\\AppData\\Local\\Temp\\ipykernel_9284\\4043377903.py\"\u001b[1;36m, line \u001b[1;32m1\u001b[0m\n\u001b[1;33m    g.appened(\"abc\":\"def\")\u001b[0m\n\u001b[1;37m                   ^\u001b[0m\n\u001b[1;31mSyntaxError\u001b[0m\u001b[1;31m:\u001b[0m invalid syntax\n"
     ]
    }
   ],
   "source": [
    "g.appened(\"abc\":\"def\")"
   ]
  },
  {
   "cell_type": "code",
   "execution_count": null,
   "id": "58db530c",
   "metadata": {},
   "outputs": [],
   "source": []
  }
 ],
 "metadata": {
  "kernelspec": {
   "display_name": "Python 3 (ipykernel)",
   "language": "python",
   "name": "python3"
  },
  "language_info": {
   "codemirror_mode": {
    "name": "ipython",
    "version": 3
   },
   "file_extension": ".py",
   "mimetype": "text/x-python",
   "name": "python",
   "nbconvert_exporter": "python",
   "pygments_lexer": "ipython3",
   "version": "3.9.13"
  }
 },
 "nbformat": 4,
 "nbformat_minor": 5
}
